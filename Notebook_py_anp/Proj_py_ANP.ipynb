{
 "cells": [
  {
   "cell_type": "code",
   "execution_count": 15,
   "id": "d3eb7dae-3316-4288-b1a3-1c824bd1f28a",
   "metadata": {},
   "outputs": [],
   "source": [
    "from jupyterthemes import jtplot\n",
    "jtplot.style(theme = 'monokai')\n",
    "import pandas as pd"
   ]
  },
  {
   "cell_type": "code",
   "execution_count": 16,
   "id": "1fd36e84-ff08-497a-991e-2c0af408c152",
   "metadata": {},
   "outputs": [
    {
     "data": {
      "text/html": [
       "<div>\n",
       "<style scoped>\n",
       "    .dataframe tbody tr th:only-of-type {\n",
       "        vertical-align: middle;\n",
       "    }\n",
       "\n",
       "    .dataframe tbody tr th {\n",
       "        vertical-align: top;\n",
       "    }\n",
       "\n",
       "    .dataframe thead th {\n",
       "        text-align: right;\n",
       "    }\n",
       "</style>\n",
       "<table border=\"1\" class=\"dataframe\">\n",
       "  <thead>\n",
       "    <tr style=\"text-align: right;\">\n",
       "      <th></th>\n",
       "      <th>Estado,Bacia,Nome Poço,Campo,Operador,Número do Contrato,Período,Óleo (bbl/dia),Condensado (bbl/dia),Petróleo (bbl/dia),Gás Natural (Mm³/dia),Volume Gás Royalties (Mm³/dia),Água (bbl/dia),Instalação Destino,Tipo Instalação,Tempo de Produção (hs por mês),Período da Carga,Corrente,Grau API,Fração de Destilados,% em Volumes,Densidade GLP Gás,Densidade GLP Líquido,\"PCS GP</th>\n",
       "    </tr>\n",
       "  </thead>\n",
       "  <tbody>\n",
       "    <tr>\n",
       "      <th>0</th>\n",
       "      <td>(kJ/m³)\",Data de atualização</td>\n",
       "    </tr>\n",
       "    <tr>\n",
       "      <th>1</th>\n",
       "      <td>Rio de Janeiro,Santos,1-BRSA-1116-RJS,ITAPU_EC...</td>\n",
       "    </tr>\n",
       "    <tr>\n",
       "      <th>2</th>\n",
       "      <td>Rio de Janeiro,Santos,7-LL-105-RJS,SUL DE TUPI...</td>\n",
       "    </tr>\n",
       "    <tr>\n",
       "      <th>3</th>\n",
       "      <td>Rio de Janeiro,Santos,7-LL-97-RJS,SUL DE TUPI,...</td>\n",
       "    </tr>\n",
       "    <tr>\n",
       "      <th>4</th>\n",
       "      <td>Rio de Janeiro,Santos,7-LL-100-RJS,SUL DE TUPI...</td>\n",
       "    </tr>\n",
       "    <tr>\n",
       "      <th>...</th>\n",
       "      <td>...</td>\n",
       "    </tr>\n",
       "    <tr>\n",
       "      <th>223</th>\n",
       "      <td>Rio de Janeiro,Santos,7-BUZ-31D-RJS,BÚZIOS,Pet...</td>\n",
       "    </tr>\n",
       "    <tr>\n",
       "      <th>224</th>\n",
       "      <td>Rio de Janeiro,Santos,7-BUZ-30-RJS,BÚZIOS,Petr...</td>\n",
       "    </tr>\n",
       "    <tr>\n",
       "      <th>225</th>\n",
       "      <td>Rio de Janeiro,Santos,7-BUZ-29D-RJS,BÚZIOS,Pet...</td>\n",
       "    </tr>\n",
       "    <tr>\n",
       "      <th>226</th>\n",
       "      <td>Rio de Janeiro,Santos,7-BUZ-36DA-RJS,BÚZIOS,Pe...</td>\n",
       "    </tr>\n",
       "    <tr>\n",
       "      <th>227</th>\n",
       "      <td>Rio de Janeiro,Santos,7-BUZ-24D-RJS,BÚZIOS,Pet...</td>\n",
       "    </tr>\n",
       "  </tbody>\n",
       "</table>\n",
       "<p>228 rows × 1 columns</p>\n",
       "</div>"
      ],
      "text/plain": [
       "    Estado,Bacia,Nome Poço,Campo,Operador,Número do Contrato,Período,Óleo (bbl/dia),Condensado (bbl/dia),Petróleo (bbl/dia),Gás Natural (Mm³/dia),Volume Gás Royalties (Mm³/dia),Água (bbl/dia),Instalação Destino,Tipo Instalação,Tempo de Produção (hs por mês),Período da Carga,Corrente,Grau API,Fração de Destilados,% em Volumes,Densidade GLP Gás,Densidade GLP Líquido,\"PCS GP\n",
       "0                         (kJ/m³)\",Data de atualização                                                                                                                                                                                                                                                                                                                                \n",
       "1    Rio de Janeiro,Santos,1-BRSA-1116-RJS,ITAPU_EC...                                                                                                                                                                                                                                                                                                                                \n",
       "2    Rio de Janeiro,Santos,7-LL-105-RJS,SUL DE TUPI...                                                                                                                                                                                                                                                                                                                                \n",
       "3    Rio de Janeiro,Santos,7-LL-97-RJS,SUL DE TUPI,...                                                                                                                                                                                                                                                                                                                                \n",
       "4    Rio de Janeiro,Santos,7-LL-100-RJS,SUL DE TUPI...                                                                                                                                                                                                                                                                                                                                \n",
       "..                                                 ...                                                                                                                                                                                                                                                                                                                                \n",
       "223  Rio de Janeiro,Santos,7-BUZ-31D-RJS,BÚZIOS,Pet...                                                                                                                                                                                                                                                                                                                                \n",
       "224  Rio de Janeiro,Santos,7-BUZ-30-RJS,BÚZIOS,Petr...                                                                                                                                                                                                                                                                                                                                \n",
       "225  Rio de Janeiro,Santos,7-BUZ-29D-RJS,BÚZIOS,Pet...                                                                                                                                                                                                                                                                                                                                \n",
       "226  Rio de Janeiro,Santos,7-BUZ-36DA-RJS,BÚZIOS,Pe...                                                                                                                                                                                                                                                                                                                                \n",
       "227  Rio de Janeiro,Santos,7-BUZ-24D-RJS,BÚZIOS,Pet...                                                                                                                                                                                                                                                                                                                                \n",
       "\n",
       "[228 rows x 1 columns]"
      ]
     },
     "execution_count": 16,
     "metadata": {},
     "output_type": "execute_result"
    }
   ],
   "source": [
    "df = pd.read_csv(\"2023_01_producao_Presal.csv\", sep = \";\")\n",
    "df"
   ]
  },
  {
   "cell_type": "code",
   "execution_count": 17,
   "id": "4f4b06d1-1e42-44a2-9e3e-fd7b68362fb1",
   "metadata": {},
   "outputs": [
    {
     "data": {
      "text/plain": [
       "pandas.core.frame.DataFrame"
      ]
     },
     "execution_count": 17,
     "metadata": {},
     "output_type": "execute_result"
    }
   ],
   "source": [
    "type(df)"
   ]
  },
  {
   "cell_type": "code",
   "execution_count": 18,
   "id": "905fa139-298b-4f30-ae21-1bc45d9f2200",
   "metadata": {},
   "outputs": [
    {
     "data": {
      "text/html": [
       "<div>\n",
       "<style scoped>\n",
       "    .dataframe tbody tr th:only-of-type {\n",
       "        vertical-align: middle;\n",
       "    }\n",
       "\n",
       "    .dataframe tbody tr th {\n",
       "        vertical-align: top;\n",
       "    }\n",
       "\n",
       "    .dataframe thead th {\n",
       "        text-align: right;\n",
       "    }\n",
       "</style>\n",
       "<table border=\"1\" class=\"dataframe\">\n",
       "  <thead>\n",
       "    <tr style=\"text-align: right;\">\n",
       "      <th></th>\n",
       "      <th>Estado,Bacia,Nome Poço,Campo,Operador,Número do Contrato,Período,Óleo (bbl/dia),Condensado (bbl/dia),Petróleo (bbl/dia),Gás Natural (Mm³/dia),Volume Gás Royalties (Mm³/dia),Água (bbl/dia),Instalação Destino,Tipo Instalação,Tempo de Produção (hs por mês),Período da Carga,Corrente,Grau API,Fração de Destilados,% em Volumes,Densidade GLP Gás,Densidade GLP Líquido,\"PCS GP</th>\n",
       "    </tr>\n",
       "  </thead>\n",
       "  <tbody>\n",
       "    <tr>\n",
       "      <th>0</th>\n",
       "      <td>(kJ/m³)\",Data de atualização</td>\n",
       "    </tr>\n",
       "    <tr>\n",
       "      <th>1</th>\n",
       "      <td>Rio de Janeiro,Santos,1-BRSA-1116-RJS,ITAPU_EC...</td>\n",
       "    </tr>\n",
       "    <tr>\n",
       "      <th>2</th>\n",
       "      <td>Rio de Janeiro,Santos,7-LL-105-RJS,SUL DE TUPI...</td>\n",
       "    </tr>\n",
       "    <tr>\n",
       "      <th>3</th>\n",
       "      <td>Rio de Janeiro,Santos,7-LL-97-RJS,SUL DE TUPI,...</td>\n",
       "    </tr>\n",
       "    <tr>\n",
       "      <th>4</th>\n",
       "      <td>Rio de Janeiro,Santos,7-LL-100-RJS,SUL DE TUPI...</td>\n",
       "    </tr>\n",
       "  </tbody>\n",
       "</table>\n",
       "</div>"
      ],
      "text/plain": [
       "  Estado,Bacia,Nome Poço,Campo,Operador,Número do Contrato,Período,Óleo (bbl/dia),Condensado (bbl/dia),Petróleo (bbl/dia),Gás Natural (Mm³/dia),Volume Gás Royalties (Mm³/dia),Água (bbl/dia),Instalação Destino,Tipo Instalação,Tempo de Produção (hs por mês),Período da Carga,Corrente,Grau API,Fração de Destilados,% em Volumes,Densidade GLP Gás,Densidade GLP Líquido,\"PCS GP\n",
       "0                       (kJ/m³)\",Data de atualização                                                                                                                                                                                                                                                                                                                                \n",
       "1  Rio de Janeiro,Santos,1-BRSA-1116-RJS,ITAPU_EC...                                                                                                                                                                                                                                                                                                                                \n",
       "2  Rio de Janeiro,Santos,7-LL-105-RJS,SUL DE TUPI...                                                                                                                                                                                                                                                                                                                                \n",
       "3  Rio de Janeiro,Santos,7-LL-97-RJS,SUL DE TUPI,...                                                                                                                                                                                                                                                                                                                                \n",
       "4  Rio de Janeiro,Santos,7-LL-100-RJS,SUL DE TUPI...                                                                                                                                                                                                                                                                                                                                "
      ]
     },
     "execution_count": 18,
     "metadata": {},
     "output_type": "execute_result"
    }
   ],
   "source": [
    "df_cleaned = df.loc[:, ~df.columns.str.contains('^Unnamed')]\n",
    "df_cleaned.head()"
   ]
  },
  {
   "cell_type": "code",
   "execution_count": 19,
   "id": "1ed203d4-d4b9-487e-9b90-716c530885b4",
   "metadata": {},
   "outputs": [
    {
     "data": {
      "text/html": [
       "<div>\n",
       "<style scoped>\n",
       "    .dataframe tbody tr th:only-of-type {\n",
       "        vertical-align: middle;\n",
       "    }\n",
       "\n",
       "    .dataframe tbody tr th {\n",
       "        vertical-align: top;\n",
       "    }\n",
       "\n",
       "    .dataframe thead th {\n",
       "        text-align: right;\n",
       "    }\n",
       "</style>\n",
       "<table border=\"1\" class=\"dataframe\">\n",
       "  <thead>\n",
       "    <tr style=\"text-align: right;\">\n",
       "      <th></th>\n",
       "      <th>Estado,Bacia,Nome Poço,Campo,Operador,Número do Contrato,Período,Óleo (bbl/dia),Condensado (bbl/dia),Petróleo (bbl/dia),Gás Natural (Mm³/dia),Volume Gás Royalties (Mm³/dia),Água (bbl/dia),Instalação Destino,Tipo Instalação,Tempo de Produção (hs por mês),Período da Carga,Corrente,Grau API,Fração de Destilados,% em Volumes,Densidade GLP Gás,Densidade GLP Líquido,\"PCS GP</th>\n",
       "    </tr>\n",
       "  </thead>\n",
       "  <tbody>\n",
       "    <tr>\n",
       "      <th>0</th>\n",
       "      <td>False</td>\n",
       "    </tr>\n",
       "    <tr>\n",
       "      <th>1</th>\n",
       "      <td>False</td>\n",
       "    </tr>\n",
       "    <tr>\n",
       "      <th>2</th>\n",
       "      <td>False</td>\n",
       "    </tr>\n",
       "    <tr>\n",
       "      <th>3</th>\n",
       "      <td>False</td>\n",
       "    </tr>\n",
       "    <tr>\n",
       "      <th>4</th>\n",
       "      <td>False</td>\n",
       "    </tr>\n",
       "    <tr>\n",
       "      <th>...</th>\n",
       "      <td>...</td>\n",
       "    </tr>\n",
       "    <tr>\n",
       "      <th>223</th>\n",
       "      <td>False</td>\n",
       "    </tr>\n",
       "    <tr>\n",
       "      <th>224</th>\n",
       "      <td>False</td>\n",
       "    </tr>\n",
       "    <tr>\n",
       "      <th>225</th>\n",
       "      <td>False</td>\n",
       "    </tr>\n",
       "    <tr>\n",
       "      <th>226</th>\n",
       "      <td>False</td>\n",
       "    </tr>\n",
       "    <tr>\n",
       "      <th>227</th>\n",
       "      <td>False</td>\n",
       "    </tr>\n",
       "  </tbody>\n",
       "</table>\n",
       "<p>228 rows × 1 columns</p>\n",
       "</div>"
      ],
      "text/plain": [
       "     Estado,Bacia,Nome Poço,Campo,Operador,Número do Contrato,Período,Óleo (bbl/dia),Condensado (bbl/dia),Petróleo (bbl/dia),Gás Natural (Mm³/dia),Volume Gás Royalties (Mm³/dia),Água (bbl/dia),Instalação Destino,Tipo Instalação,Tempo de Produção (hs por mês),Período da Carga,Corrente,Grau API,Fração de Destilados,% em Volumes,Densidade GLP Gás,Densidade GLP Líquido,\"PCS GP\n",
       "0                                                False                                                                                                                                                                                                                                                                                                                                 \n",
       "1                                                False                                                                                                                                                                                                                                                                                                                                 \n",
       "2                                                False                                                                                                                                                                                                                                                                                                                                 \n",
       "3                                                False                                                                                                                                                                                                                                                                                                                                 \n",
       "4                                                False                                                                                                                                                                                                                                                                                                                                 \n",
       "..                                                 ...                                                                                                                                                                                                                                                                                                                                 \n",
       "223                                              False                                                                                                                                                                                                                                                                                                                                 \n",
       "224                                              False                                                                                                                                                                                                                                                                                                                                 \n",
       "225                                              False                                                                                                                                                                                                                                                                                                                                 \n",
       "226                                              False                                                                                                                                                                                                                                                                                                                                 \n",
       "227                                              False                                                                                                                                                                                                                                                                                                                                 \n",
       "\n",
       "[228 rows x 1 columns]"
      ]
     },
     "execution_count": 19,
     "metadata": {},
     "output_type": "execute_result"
    }
   ],
   "source": [
    "df.isnull()"
   ]
  },
  {
   "cell_type": "code",
   "execution_count": 20,
   "id": "b29b6333-65a5-4a10-aa9a-64ec9ddeac32",
   "metadata": {},
   "outputs": [
    {
     "data": {
      "text/html": [
       "<div>\n",
       "<style scoped>\n",
       "    .dataframe tbody tr th:only-of-type {\n",
       "        vertical-align: middle;\n",
       "    }\n",
       "\n",
       "    .dataframe tbody tr th {\n",
       "        vertical-align: top;\n",
       "    }\n",
       "\n",
       "    .dataframe thead th {\n",
       "        text-align: right;\n",
       "    }\n",
       "</style>\n",
       "<table border=\"1\" class=\"dataframe\">\n",
       "  <thead>\n",
       "    <tr style=\"text-align: right;\">\n",
       "      <th></th>\n",
       "      <th>Estado,Bacia,Nome Poço,Campo,Operador,Número do Contrato,Período,Óleo (bbl/dia),Condensado (bbl/dia),Petróleo (bbl/dia),Gás Natural (Mm³/dia),Volume Gás Royalties (Mm³/dia),Água (bbl/dia),Instalação Destino,Tipo Instalação,Tempo de Produção (hs por mês),Período da Carga,Corrente,Grau API,Fração de Destilados,% em Volumes,Densidade GLP Gás,Densidade GLP Líquido,\"PCS GP</th>\n",
       "    </tr>\n",
       "  </thead>\n",
       "  <tbody>\n",
       "    <tr>\n",
       "      <th>0</th>\n",
       "      <td>(kJ/m³)\",Data de atualização</td>\n",
       "    </tr>\n",
       "    <tr>\n",
       "      <th>1</th>\n",
       "      <td>Rio de Janeiro,Santos,1-BRSA-1116-RJS,ITAPU_EC...</td>\n",
       "    </tr>\n",
       "    <tr>\n",
       "      <th>2</th>\n",
       "      <td>Rio de Janeiro,Santos,7-LL-105-RJS,SUL DE TUPI...</td>\n",
       "    </tr>\n",
       "    <tr>\n",
       "      <th>3</th>\n",
       "      <td>Rio de Janeiro,Santos,7-LL-97-RJS,SUL DE TUPI,...</td>\n",
       "    </tr>\n",
       "    <tr>\n",
       "      <th>4</th>\n",
       "      <td>Rio de Janeiro,Santos,7-LL-100-RJS,SUL DE TUPI...</td>\n",
       "    </tr>\n",
       "  </tbody>\n",
       "</table>\n",
       "</div>"
      ],
      "text/plain": [
       "  Estado,Bacia,Nome Poço,Campo,Operador,Número do Contrato,Período,Óleo (bbl/dia),Condensado (bbl/dia),Petróleo (bbl/dia),Gás Natural (Mm³/dia),Volume Gás Royalties (Mm³/dia),Água (bbl/dia),Instalação Destino,Tipo Instalação,Tempo de Produção (hs por mês),Período da Carga,Corrente,Grau API,Fração de Destilados,% em Volumes,Densidade GLP Gás,Densidade GLP Líquido,\"PCS GP\n",
       "0                       (kJ/m³)\",Data de atualização                                                                                                                                                                                                                                                                                                                                \n",
       "1  Rio de Janeiro,Santos,1-BRSA-1116-RJS,ITAPU_EC...                                                                                                                                                                                                                                                                                                                                \n",
       "2  Rio de Janeiro,Santos,7-LL-105-RJS,SUL DE TUPI...                                                                                                                                                                                                                                                                                                                                \n",
       "3  Rio de Janeiro,Santos,7-LL-97-RJS,SUL DE TUPI,...                                                                                                                                                                                                                                                                                                                                \n",
       "4  Rio de Janeiro,Santos,7-LL-100-RJS,SUL DE TUPI...                                                                                                                                                                                                                                                                                                                                "
      ]
     },
     "execution_count": 20,
     "metadata": {},
     "output_type": "execute_result"
    }
   ],
   "source": [
    "df_cleaned = df.dropna()\n",
    "df_cleaned.head()"
   ]
  },
  {
   "cell_type": "code",
   "execution_count": 21,
   "id": "ed3ea290-403c-405f-8912-e74760a78443",
   "metadata": {},
   "outputs": [],
   "source": [
    "df.dropna(inplace=True)"
   ]
  },
  {
   "cell_type": "code",
   "execution_count": 22,
   "id": "9828ad70-b7ae-4876-b8b7-19d1b2a12a24",
   "metadata": {},
   "outputs": [
    {
     "data": {
      "text/html": [
       "<div>\n",
       "<style scoped>\n",
       "    .dataframe tbody tr th:only-of-type {\n",
       "        vertical-align: middle;\n",
       "    }\n",
       "\n",
       "    .dataframe tbody tr th {\n",
       "        vertical-align: top;\n",
       "    }\n",
       "\n",
       "    .dataframe thead th {\n",
       "        text-align: right;\n",
       "    }\n",
       "</style>\n",
       "<table border=\"1\" class=\"dataframe\">\n",
       "  <thead>\n",
       "    <tr style=\"text-align: right;\">\n",
       "      <th></th>\n",
       "      <th>Estado,Bacia,Nome Poço,Campo,Operador,Número do Contrato,Período,Óleo (bbl/dia),Condensado (bbl/dia),Petróleo (bbl/dia),Gás Natural (Mm³/dia),Volume Gás Royalties (Mm³/dia),Água (bbl/dia),Instalação Destino,Tipo Instalação,Tempo de Produção (hs por mês),Período da Carga,Corrente,Grau API,Fração de Destilados,% em Volumes,Densidade GLP Gás,Densidade GLP Líquido,\"PCS GP</th>\n",
       "    </tr>\n",
       "  </thead>\n",
       "  <tbody>\n",
       "    <tr>\n",
       "      <th>0</th>\n",
       "      <td>(kJ/m³)\",Data de atualização</td>\n",
       "    </tr>\n",
       "    <tr>\n",
       "      <th>1</th>\n",
       "      <td>Rio de Janeiro,Santos,1-BRSA-1116-RJS,ITAPU_EC...</td>\n",
       "    </tr>\n",
       "    <tr>\n",
       "      <th>2</th>\n",
       "      <td>Rio de Janeiro,Santos,7-LL-105-RJS,SUL DE TUPI...</td>\n",
       "    </tr>\n",
       "    <tr>\n",
       "      <th>3</th>\n",
       "      <td>Rio de Janeiro,Santos,7-LL-97-RJS,SUL DE TUPI,...</td>\n",
       "    </tr>\n",
       "    <tr>\n",
       "      <th>4</th>\n",
       "      <td>Rio de Janeiro,Santos,7-LL-100-RJS,SUL DE TUPI...</td>\n",
       "    </tr>\n",
       "  </tbody>\n",
       "</table>\n",
       "</div>"
      ],
      "text/plain": [
       "  Estado,Bacia,Nome Poço,Campo,Operador,Número do Contrato,Período,Óleo (bbl/dia),Condensado (bbl/dia),Petróleo (bbl/dia),Gás Natural (Mm³/dia),Volume Gás Royalties (Mm³/dia),Água (bbl/dia),Instalação Destino,Tipo Instalação,Tempo de Produção (hs por mês),Período da Carga,Corrente,Grau API,Fração de Destilados,% em Volumes,Densidade GLP Gás,Densidade GLP Líquido,\"PCS GP\n",
       "0                       (kJ/m³)\",Data de atualização                                                                                                                                                                                                                                                                                                                                \n",
       "1  Rio de Janeiro,Santos,1-BRSA-1116-RJS,ITAPU_EC...                                                                                                                                                                                                                                                                                                                                \n",
       "2  Rio de Janeiro,Santos,7-LL-105-RJS,SUL DE TUPI...                                                                                                                                                                                                                                                                                                                                \n",
       "3  Rio de Janeiro,Santos,7-LL-97-RJS,SUL DE TUPI,...                                                                                                                                                                                                                                                                                                                                \n",
       "4  Rio de Janeiro,Santos,7-LL-100-RJS,SUL DE TUPI...                                                                                                                                                                                                                                                                                                                                "
      ]
     },
     "execution_count": 22,
     "metadata": {},
     "output_type": "execute_result"
    }
   ],
   "source": [
    "df_cleaned.to_csv(\"2023_01_producao_Presal.csv\", index=False)\n",
    "df_cleaned.head()"
   ]
  },
  {
   "cell_type": "code",
   "execution_count": 23,
   "id": "24590ff2-eae1-436e-8989-ef3395fc293c",
   "metadata": {},
   "outputs": [
    {
     "data": {
      "text/html": [
       "<div>\n",
       "<style scoped>\n",
       "    .dataframe tbody tr th:only-of-type {\n",
       "        vertical-align: middle;\n",
       "    }\n",
       "\n",
       "    .dataframe tbody tr th {\n",
       "        vertical-align: top;\n",
       "    }\n",
       "\n",
       "    .dataframe thead th {\n",
       "        text-align: right;\n",
       "    }\n",
       "</style>\n",
       "<table border=\"1\" class=\"dataframe\">\n",
       "  <thead>\n",
       "    <tr style=\"text-align: right;\">\n",
       "      <th></th>\n",
       "      <th>Estado,Bacia,Nome Poço,Campo,Operador,Número do Contrato,Período,Óleo (bbl/dia),Condensado (bbl/dia),Petróleo (bbl/dia),Gás Natural (Mm³/dia),Volume Gás Royalties (Mm³/dia),Água (bbl/dia),Instalação Destino,Tipo Instalação,Tempo de Produção (hs por mês),Período da Carga,Corrente,Grau API,Fração de Destilados,% em Volumes,Densidade GLP Gás,Densidade GLP Líquido,\"PCS GP</th>\n",
       "    </tr>\n",
       "  </thead>\n",
       "  <tbody>\n",
       "  </tbody>\n",
       "</table>\n",
       "</div>"
      ],
      "text/plain": [
       "Empty DataFrame\n",
       "Columns: [Estado,Bacia,Nome Poço,Campo,Operador,Número do Contrato,Período,Óleo (bbl/dia),Condensado (bbl/dia),Petróleo (bbl/dia),Gás Natural (Mm³/dia),Volume Gás Royalties (Mm³/dia),Água (bbl/dia),Instalação Destino,Tipo Instalação,Tempo de Produção (hs por mês),Período da Carga,Corrente,Grau API,Fração de Destilados,% em Volumes,Densidade GLP Gás,Densidade GLP Líquido,\"PCS GP]\n",
       "Index: []"
      ]
     },
     "execution_count": 23,
     "metadata": {},
     "output_type": "execute_result"
    }
   ],
   "source": [
    "dados = df_cleaned[df_cleaned.duplicated()]\n",
    "dados"
   ]
  },
  {
   "cell_type": "code",
   "execution_count": 24,
   "id": "f5c3dd4d-32cb-4c0b-8510-7c1aa8d78660",
   "metadata": {},
   "outputs": [
    {
     "name": "stdout",
     "output_type": "stream",
     "text": [
      "Número de linhas duplicadas: 0\n"
     ]
    }
   ],
   "source": [
    "numero_duplicados = df_cleaned.duplicated().sum()\n",
    "print(f\"Número de linhas duplicadas: {numero_duplicados}\")"
   ]
  },
  {
   "cell_type": "code",
   "execution_count": 25,
   "id": "cc710828-a152-487d-9fad-5b2c9febd91a",
   "metadata": {},
   "outputs": [
    {
     "data": {
      "text/plain": [
       "Estado,Bacia,Nome Poço,Campo,Operador,Número do Contrato,Período,Óleo (bbl/dia),Condensado (bbl/dia),Petróleo (bbl/dia),Gás Natural (Mm³/dia),Volume Gás Royalties (Mm³/dia),Água (bbl/dia),Instalação Destino,Tipo Instalação,Tempo de Produção (hs por mês),Período da Carga,Corrente,Grau API,Fração de Destilados,% em Volumes,Densidade GLP Gás,Densidade GLP Líquido,\"PCS GP    0\n",
       "dtype: int64"
      ]
     },
     "execution_count": 25,
     "metadata": {},
     "output_type": "execute_result"
    }
   ],
   "source": [
    "nan_count = df_cleaned.isna().sum()\n",
    "nan_count"
   ]
  },
  {
   "cell_type": "code",
   "execution_count": 26,
   "id": "7356ad20-f5f3-40cc-b086-9879cac88a48",
   "metadata": {},
   "outputs": [
    {
     "data": {
      "text/plain": [
       "Index(['Estado,Bacia,Nome Poço,Campo,Operador,Número do Contrato,Período,Óleo (bbl/dia),Condensado (bbl/dia),Petróleo (bbl/dia),Gás Natural (Mm³/dia),Volume Gás Royalties (Mm³/dia),Água (bbl/dia),Instalação Destino,Tipo Instalação,Tempo de Produção (hs por mês),Período da Carga,Corrente,Grau API,Fração de Destilados,% em Volumes,Densidade GLP Gás,Densidade GLP Líquido,\"PCS GP'], dtype='object')"
      ]
     },
     "execution_count": 26,
     "metadata": {},
     "output_type": "execute_result"
    }
   ],
   "source": [
    "df_cleaned.columns"
   ]
  },
  {
   "cell_type": "code",
   "execution_count": 27,
   "id": "f9d6d1b6-3d0f-4ec4-8404-a6bf566fd3d8",
   "metadata": {},
   "outputs": [
    {
     "name": "stdout",
     "output_type": "stream",
     "text": [
      "<class 'pandas.core.frame.DataFrame'>\n",
      "RangeIndex: 228 entries, 0 to 227\n",
      "Data columns (total 1 columns):\n",
      " #   Column                                                                                                                                                                                                                                                                                                                                                                              Non-Null Count  Dtype \n",
      "---  ------                                                                                                                                                                                                                                                                                                                                                                              --------------  ----- \n",
      " 0   Estado,Bacia,Nome Poço,Campo,Operador,Número do Contrato,Período,Óleo (bbl/dia),Condensado (bbl/dia),Petróleo (bbl/dia),Gás Natural (Mm³/dia),Volume Gás Royalties (Mm³/dia),Água (bbl/dia),Instalação Destino,Tipo Instalação,Tempo de Produção (hs por mês),Período da Carga,Corrente,Grau API,Fração de Destilados,% em Volumes,Densidade GLP Gás,Densidade GLP Líquido,\"PCS GP  228 non-null    object\n",
      "dtypes: object(1)\n",
      "memory usage: 1.9+ KB\n"
     ]
    }
   ],
   "source": [
    "df_cleaned.info()"
   ]
  },
  {
   "cell_type": "code",
   "execution_count": 28,
   "id": "7f3a00a8-af6b-46e9-8ba2-0bd79017b76f",
   "metadata": {
    "scrolled": true
   },
   "outputs": [
    {
     "ename": "KeyError",
     "evalue": "'Óleo (bbl/dia)'",
     "output_type": "error",
     "traceback": [
      "\u001b[1;31m---------------------------------------------------------------------------\u001b[0m",
      "\u001b[1;31mKeyError\u001b[0m                                  Traceback (most recent call last)",
      "File \u001b[1;32m~\\anaconda3\\Lib\\site-packages\\pandas\\core\\indexes\\base.py:3805\u001b[0m, in \u001b[0;36mIndex.get_loc\u001b[1;34m(self, key)\u001b[0m\n\u001b[0;32m   3804\u001b[0m \u001b[38;5;28;01mtry\u001b[39;00m:\n\u001b[1;32m-> 3805\u001b[0m     \u001b[38;5;28;01mreturn\u001b[39;00m \u001b[38;5;28mself\u001b[39m\u001b[38;5;241m.\u001b[39m_engine\u001b[38;5;241m.\u001b[39mget_loc(casted_key)\n\u001b[0;32m   3806\u001b[0m \u001b[38;5;28;01mexcept\u001b[39;00m \u001b[38;5;167;01mKeyError\u001b[39;00m \u001b[38;5;28;01mas\u001b[39;00m err:\n",
      "File \u001b[1;32mindex.pyx:167\u001b[0m, in \u001b[0;36mpandas._libs.index.IndexEngine.get_loc\u001b[1;34m()\u001b[0m\n",
      "File \u001b[1;32mindex.pyx:196\u001b[0m, in \u001b[0;36mpandas._libs.index.IndexEngine.get_loc\u001b[1;34m()\u001b[0m\n",
      "File \u001b[1;32mpandas\\\\_libs\\\\hashtable_class_helper.pxi:7081\u001b[0m, in \u001b[0;36mpandas._libs.hashtable.PyObjectHashTable.get_item\u001b[1;34m()\u001b[0m\n",
      "File \u001b[1;32mpandas\\\\_libs\\\\hashtable_class_helper.pxi:7089\u001b[0m, in \u001b[0;36mpandas._libs.hashtable.PyObjectHashTable.get_item\u001b[1;34m()\u001b[0m\n",
      "\u001b[1;31mKeyError\u001b[0m: 'Óleo (bbl/dia)'",
      "\nThe above exception was the direct cause of the following exception:\n",
      "\u001b[1;31mKeyError\u001b[0m                                  Traceback (most recent call last)",
      "Cell \u001b[1;32mIn[28], line 21\u001b[0m\n\u001b[0;32m     19\u001b[0m \u001b[38;5;66;03m# Remover pontos e substituir vírgulas por pontos, depois converter para numérico\u001b[39;00m\n\u001b[0;32m     20\u001b[0m \u001b[38;5;28;01mfor\u001b[39;00m coluna \u001b[38;5;129;01min\u001b[39;00m colunas_numericas:\n\u001b[1;32m---> 21\u001b[0m     df[coluna] \u001b[38;5;241m=\u001b[39m df[coluna]\u001b[38;5;241m.\u001b[39mstr\u001b[38;5;241m.\u001b[39mreplace(\u001b[38;5;124m'\u001b[39m\u001b[38;5;124m.\u001b[39m\u001b[38;5;124m'\u001b[39m, \u001b[38;5;124m'\u001b[39m\u001b[38;5;124m'\u001b[39m, regex\u001b[38;5;241m=\u001b[39m\u001b[38;5;28;01mFalse\u001b[39;00m)  \u001b[38;5;66;03m# Remove separador de milhares\u001b[39;00m\n\u001b[0;32m     22\u001b[0m     df[coluna] \u001b[38;5;241m=\u001b[39m df[coluna]\u001b[38;5;241m.\u001b[39mstr\u001b[38;5;241m.\u001b[39mreplace(\u001b[38;5;124m'\u001b[39m\u001b[38;5;124m,\u001b[39m\u001b[38;5;124m'\u001b[39m, \u001b[38;5;124m'\u001b[39m\u001b[38;5;124m.\u001b[39m\u001b[38;5;124m'\u001b[39m, regex\u001b[38;5;241m=\u001b[39m\u001b[38;5;28;01mFalse\u001b[39;00m)  \u001b[38;5;66;03m# Substitui vírgulas por pontos\u001b[39;00m\n\u001b[0;32m     23\u001b[0m     df[coluna] \u001b[38;5;241m=\u001b[39m pd\u001b[38;5;241m.\u001b[39mto_numeric(df[coluna], errors\u001b[38;5;241m=\u001b[39m\u001b[38;5;124m'\u001b[39m\u001b[38;5;124mcoerce\u001b[39m\u001b[38;5;124m'\u001b[39m)  \u001b[38;5;66;03m# Converte para numérico\u001b[39;00m\n",
      "File \u001b[1;32m~\\anaconda3\\Lib\\site-packages\\pandas\\core\\frame.py:4102\u001b[0m, in \u001b[0;36mDataFrame.__getitem__\u001b[1;34m(self, key)\u001b[0m\n\u001b[0;32m   4100\u001b[0m \u001b[38;5;28;01mif\u001b[39;00m \u001b[38;5;28mself\u001b[39m\u001b[38;5;241m.\u001b[39mcolumns\u001b[38;5;241m.\u001b[39mnlevels \u001b[38;5;241m>\u001b[39m \u001b[38;5;241m1\u001b[39m:\n\u001b[0;32m   4101\u001b[0m     \u001b[38;5;28;01mreturn\u001b[39;00m \u001b[38;5;28mself\u001b[39m\u001b[38;5;241m.\u001b[39m_getitem_multilevel(key)\n\u001b[1;32m-> 4102\u001b[0m indexer \u001b[38;5;241m=\u001b[39m \u001b[38;5;28mself\u001b[39m\u001b[38;5;241m.\u001b[39mcolumns\u001b[38;5;241m.\u001b[39mget_loc(key)\n\u001b[0;32m   4103\u001b[0m \u001b[38;5;28;01mif\u001b[39;00m is_integer(indexer):\n\u001b[0;32m   4104\u001b[0m     indexer \u001b[38;5;241m=\u001b[39m [indexer]\n",
      "File \u001b[1;32m~\\anaconda3\\Lib\\site-packages\\pandas\\core\\indexes\\base.py:3812\u001b[0m, in \u001b[0;36mIndex.get_loc\u001b[1;34m(self, key)\u001b[0m\n\u001b[0;32m   3807\u001b[0m     \u001b[38;5;28;01mif\u001b[39;00m \u001b[38;5;28misinstance\u001b[39m(casted_key, \u001b[38;5;28mslice\u001b[39m) \u001b[38;5;129;01mor\u001b[39;00m (\n\u001b[0;32m   3808\u001b[0m         \u001b[38;5;28misinstance\u001b[39m(casted_key, abc\u001b[38;5;241m.\u001b[39mIterable)\n\u001b[0;32m   3809\u001b[0m         \u001b[38;5;129;01mand\u001b[39;00m \u001b[38;5;28many\u001b[39m(\u001b[38;5;28misinstance\u001b[39m(x, \u001b[38;5;28mslice\u001b[39m) \u001b[38;5;28;01mfor\u001b[39;00m x \u001b[38;5;129;01min\u001b[39;00m casted_key)\n\u001b[0;32m   3810\u001b[0m     ):\n\u001b[0;32m   3811\u001b[0m         \u001b[38;5;28;01mraise\u001b[39;00m InvalidIndexError(key)\n\u001b[1;32m-> 3812\u001b[0m     \u001b[38;5;28;01mraise\u001b[39;00m \u001b[38;5;167;01mKeyError\u001b[39;00m(key) \u001b[38;5;28;01mfrom\u001b[39;00m \u001b[38;5;21;01merr\u001b[39;00m\n\u001b[0;32m   3813\u001b[0m \u001b[38;5;28;01mexcept\u001b[39;00m \u001b[38;5;167;01mTypeError\u001b[39;00m:\n\u001b[0;32m   3814\u001b[0m     \u001b[38;5;66;03m# If we have a listlike key, _check_indexing_error will raise\u001b[39;00m\n\u001b[0;32m   3815\u001b[0m     \u001b[38;5;66;03m#  InvalidIndexError. Otherwise we fall through and re-raise\u001b[39;00m\n\u001b[0;32m   3816\u001b[0m     \u001b[38;5;66;03m#  the TypeError.\u001b[39;00m\n\u001b[0;32m   3817\u001b[0m     \u001b[38;5;28mself\u001b[39m\u001b[38;5;241m.\u001b[39m_check_indexing_error(key)\n",
      "\u001b[1;31mKeyError\u001b[0m: 'Óleo (bbl/dia)'"
     ]
    }
   ],
   "source": [
    "import pandas as pd\n",
    "\n",
    "# Lista de colunas numéricas que você quer converter\n",
    "colunas_numericas = [\n",
    "    'Óleo (bbl/dia)', \n",
    "    'Condensado (bbl/dia)', \n",
    "    'Petróleo (bbl/dia)', \n",
    "    'Gás Natural (Mm³/dia)', \n",
    "    'Volume Gás Royalties (Mm³/dia)', \n",
    "    'Água (bbl/dia)', \n",
    "    'Grau API',\n",
    "    'Fração de Destilados',\n",
    "    '% em Volumes',\n",
    "    'Densidade GLP Gás',\n",
    "    'Densidade GLP Líquido',\n",
    "    'PCS GP\\n(kJ/m³)'\n",
    "]\n",
    "\n",
    "# Remover pontos e substituir vírgulas por pontos, depois converter para numérico\n",
    "for coluna in colunas_numericas:\n",
    "    df[coluna] = df[coluna].str.replace('.', '', regex=False)  # Remove separador de milhares\n",
    "    df[coluna] = df[coluna].str.replace(',', '.', regex=False)  # Substitui vírgulas por pontos\n",
    "    df[coluna] = pd.to_numeric(df[coluna], errors='coerce')  # Converte para numérico\n",
    "\n",
    "# Verifique as primeiras linhas e os tipos de dados\n",
    "print(df.head())\n",
    "print(df.dtypes)\n"
   ]
  },
  {
   "cell_type": "code",
   "execution_count": null,
   "id": "052c8df9-82b7-4c41-8d57-254ce3f7089a",
   "metadata": {},
   "outputs": [],
   "source": [
    "colunas_para_remover = [\n",
    "    'Número do Contrato',\n",
    "    'Período da Carga',\n",
    "    ]\n"
   ]
  },
  {
   "cell_type": "code",
   "execution_count": null,
   "id": "9695e0fe-81c9-4d11-96db-dd07b6e6c77b",
   "metadata": {},
   "outputs": [],
   "source": [
    "df.columns = df.columns.str.strip()\n"
   ]
  },
  {
   "cell_type": "code",
   "execution_count": null,
   "id": "25033b45-f7ae-4198-ad75-729ebf75bfc0",
   "metadata": {},
   "outputs": [],
   "source": [
    "df = df.drop(columns=colunas_para_remover, errors='ignore')\n",
    "df.head()"
   ]
  },
  {
   "cell_type": "code",
   "execution_count": null,
   "id": "c6654182-7ae0-473e-8542-4d5f721ee6b1",
   "metadata": {},
   "outputs": [],
   "source": [
    "dados_limpos = df_cleaned = df_cleaned.dropna()\n",
    "dados_limpos.head()"
   ]
  },
  {
   "cell_type": "code",
   "execution_count": null,
   "id": "4a203883-5d44-4b48-a533-47afda833c10",
   "metadata": {},
   "outputs": [],
   "source": [
    "df['Óleo (bbl/dia)']"
   ]
  },
  {
   "cell_type": "code",
   "execution_count": null,
   "id": "8478f676-c7dd-4631-868a-fca3a8c51c1e",
   "metadata": {},
   "outputs": [],
   "source": [
    "df['Óleo (bbl/dia)'].mean()"
   ]
  },
  {
   "cell_type": "code",
   "execution_count": null,
   "id": "c71da22d-2a13-4a2e-a2a0-40c5850502b9",
   "metadata": {},
   "outputs": [],
   "source": [
    "df.describe()"
   ]
  },
  {
   "cell_type": "code",
   "execution_count": null,
   "id": "aa1f07ae-aeab-4c8c-bf2d-760b89b69b7a",
   "metadata": {},
   "outputs": [],
   "source": [
    "producao_por_campo = df.groupby(\"Campo\")[\"Óleo (bbl/dia)\"].sum()\n",
    "producao_por_campo"
   ]
  },
  {
   "cell_type": "code",
   "execution_count": null,
   "id": "52bb566b-b7bd-4c08-9583-9f8efe3d6d96",
   "metadata": {},
   "outputs": [],
   "source": [
    "producao_media_por_operador = df.groupby('Operador')['Petróleo (bbl/dia)'].mean()\n",
    "producao_media_por_operador"
   ]
  },
  {
   "cell_type": "code",
   "execution_count": null,
   "id": "d47caa9b-bc7d-4ac8-9171-663bb91f360d",
   "metadata": {},
   "outputs": [],
   "source": [
    "import matplotlib.pyplot as plt\n",
    "\n",
    "producao_por_campo.plot(kind='bar', figsize=(8,4))\n",
    "plt.title('Produção de Óleo por Campo')\n",
    "plt.xlabel('Campo')\n",
    "plt.ylabel('Óleo (bbl/dia)')\n",
    "plt.show()\n"
   ]
  },
  {
   "cell_type": "code",
   "execution_count": null,
   "id": "cad13d21-25dd-49aa-839e-248dbd8ff0c7",
   "metadata": {},
   "outputs": [],
   "source": [
    "# Comparar a produção de Óleo e Gás Natural por poço\n",
    "plt.figure(figsize=(8,6))\n",
    "plt.scatter(df['Óleo (bbl/dia)'], df['Gás Natural (Mm³/dia)'])\n",
    "plt.title('Relação entre Produção de Óleo e Gás Natural')\n",
    "plt.xlabel('Óleo (bbl/dia)')\n",
    "plt.ylabel('Gás Natural (Mm³/dia)')\n",
    "plt.show()\n"
   ]
  },
  {
   "cell_type": "code",
   "execution_count": null,
   "id": "b0f58cce-6d6e-4cbd-83b8-e7bd0844e318",
   "metadata": {},
   "outputs": [],
   "source": [
    "# Converter a coluna \"Período\" para o formato datetime\n",
    "df['Período'] = pd.to_datetime(df['Período'], format='%Y/%m')\n",
    "\n",
    "# Verificar as primeiras linhas para garantir que a conversão foi bem-sucedida\n",
    "print(df[['Período']].head())\n",
    "\n"
   ]
  },
  {
   "cell_type": "code",
   "execution_count": null,
   "id": "4acbd58f-5ba1-4f18-bad9-dd90e6fb80cc",
   "metadata": {},
   "outputs": [],
   "source": [
    "# Produção total de Óleo por período\n",
    "producao_ao_longo_do_tempo = df.groupby('Período')['Óleo (bbl/dia)'].sum()\n",
    "\n",
    "# Exibir o resultado\n",
    "print(producao_ao_longo_do_tempo)\n"
   ]
  },
  {
   "cell_type": "code",
   "execution_count": null,
   "id": "b058f41e-43e0-4c51-8ffe-9dd89535256d",
   "metadata": {},
   "outputs": [],
   "source": [
    "# Plotar a produção total de Óleo ao longo do tempo\n",
    "producao_ao_longo_do_tempo.plot(figsize=(10,6))\n",
    "plt.title('Produção Total de Óleo ao Longo do Tempo')\n",
    "plt.xlabel('Período')\n",
    "plt.ylabel('Óleo (bbl/dia)')\n",
    "plt.xticks(rotation=45)\n",
    "plt.show()"
   ]
  },
  {
   "cell_type": "code",
   "execution_count": null,
   "id": "86663b43-ba9a-42da-a126-c2444017b2f1",
   "metadata": {},
   "outputs": [],
   "source": [
    "# Calcular a variação percentual mês a mês\n",
    "producao_ao_longo_do_tempo_pct_change = producao_ao_longo_do_tempo.pct_change() * 100\n",
    "\n",
    "# Exibir a variação percentual\n",
    "print(producao_ao_longo_do_tempo_pct_change)\n",
    "\n",
    "# Plotar a variação percentual ao longo do tempo\n",
    "producao_ao_longo_do_tempo_pct_change.plot(figsize=(10,6))\n",
    "plt.title('Variação Percentual da Produção de Óleo ao Longo do Tempo')\n",
    "plt.xlabel('Período')\n",
    "plt.ylabel('Variação Percentual (%)')\n",
    "plt.xticks(rotation=45)\n",
    "plt.show()\n"
   ]
  },
  {
   "cell_type": "code",
   "execution_count": null,
   "id": "efffc511-ad3b-48e4-948e-1f6f430cb0f9",
   "metadata": {},
   "outputs": [],
   "source": [
    "# Verificar campos com produção muito alta ou muito baixa de Óleo\n",
    "outliers_alta = df[df['Óleo (bbl/dia)'] > df['Óleo (bbl/dia)'].mean() + 3*df['Óleo (bbl/dia)'].std()]\n",
    "outliers_baixa = df[df['Óleo (bbl/dia)'] < df['Óleo (bbl/dia)'].mean() - 3*df['Óleo (bbl/dia)'].std()]\n",
    "\n",
    "print(\"Poços com produção muito alta de Óleo:\\n\", outliers_alta)\n",
    "print(\"Poços com produção muito baixa de Óleo:\\n\", outliers_baixa)\n"
   ]
  }
 ],
 "metadata": {
  "kernelspec": {
   "display_name": "Python 3 (ipykernel)",
   "language": "python",
   "name": "python3"
  },
  "language_info": {
   "codemirror_mode": {
    "name": "ipython",
    "version": 3
   },
   "file_extension": ".py",
   "mimetype": "text/x-python",
   "name": "python",
   "nbconvert_exporter": "python",
   "pygments_lexer": "ipython3",
   "version": "3.11.7"
  }
 },
 "nbformat": 4,
 "nbformat_minor": 5
}
